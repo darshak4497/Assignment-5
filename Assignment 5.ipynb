{
 "cells": [
  {
   "cell_type": "code",
   "execution_count": 1,
   "id": "0a77ea01",
   "metadata": {},
   "outputs": [],
   "source": [
    "#Answer 1\n",
    "def divid(a,b):\n",
    "    if b==0:\n",
    "        try:\n",
    "            a/b\n",
    "        except ZeroDivisionError as z:\n",
    "            print(z, 'is not possible')\n",
    "    else:\n",
    "        return (a/b)"
   ]
  },
  {
   "cell_type": "code",
   "execution_count": 2,
   "id": "74528fff",
   "metadata": {},
   "outputs": [
    {
     "name": "stdout",
     "output_type": "stream",
     "text": [
      "division by zero is not possible\n"
     ]
    }
   ],
   "source": [
    "divid(5,0)"
   ]
  },
  {
   "cell_type": "code",
   "execution_count": 3,
   "id": "428744ce",
   "metadata": {},
   "outputs": [
    {
     "name": "stdout",
     "output_type": "stream",
     "text": [
      "***** Possible sentences *****\n",
      "Americans  play Baseball\n",
      "Americans  play Cricket\n",
      "Americans  watch Baseball\n",
      "Americans  watch Cricket\n",
      "Indians play Baseball\n",
      "Indians play Cricket\n",
      "Indians watch Baseball\n",
      "Indians watch Cricket\n"
     ]
    }
   ],
   "source": [
    "#Answer 2\n",
    "s=[\"Americans \",\"Indians\"]\n",
    "v=[\"play\",\"watch\"]\n",
    "o=[\"Baseball\",\"Cricket\"]\n",
    "\n",
    "print('*'*5, 'Possible sentences', '*'*5)\n",
    "for i in s:\n",
    "    for j in v:\n",
    "        for k in o:\n",
    "            print(i, j, k)"
   ]
  },
  {
   "cell_type": "code",
   "execution_count": null,
   "id": "edc7517b",
   "metadata": {},
   "outputs": [],
   "source": []
  }
 ],
 "metadata": {
  "kernelspec": {
   "display_name": "Python 3",
   "language": "python",
   "name": "python3"
  },
  "language_info": {
   "codemirror_mode": {
    "name": "ipython",
    "version": 3
   },
   "file_extension": ".py",
   "mimetype": "text/x-python",
   "name": "python",
   "nbconvert_exporter": "python",
   "pygments_lexer": "ipython3",
   "version": "3.8.8"
  }
 },
 "nbformat": 4,
 "nbformat_minor": 5
}
